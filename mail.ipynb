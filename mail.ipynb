{
 "cells": [
  {
   "cell_type": "code",
   "execution_count": 9,
   "metadata": {},
   "outputs": [],
   "source": [
    "import smtplib\n",
    "from string import Template\n",
    "from email.mime.multipart import MIMEMultipart\n",
    "from email.mime.text import MIMEText"
   ]
  },
  {
   "cell_type": "code",
   "execution_count": 10,
   "metadata": {},
   "outputs": [],
   "source": [
    "MY_ADDRESS = 'Your mail id'\n",
    "PASSWORD = 'password'"
   ]
  },
  {
   "cell_type": "code",
   "execution_count": 11,
   "metadata": {},
   "outputs": [],
   "source": [
    "def get_contacts(filename):\n",
    "    names = []\n",
    "    emails = []\n",
    "    contacts_file=open(filename, mode='r', encoding='utf-8')\n",
    "    for a_contact in contacts_file:\n",
    "        names.append(a_contact.split()[0])\n",
    "        emails.append(a_contact.split()[1])\n",
    "    return names, emails"
   ]
  },
  {
   "cell_type": "code",
   "execution_count": 12,
   "metadata": {},
   "outputs": [],
   "source": [
    "def read_template(filename):\n",
    "    with open(filename, 'r', encoding='utf-8') as template_file:\n",
    "        template_file_content = template_file.read()\n",
    "    return Template(template_file_content)"
   ]
  },
  {
   "cell_type": "code",
   "execution_count": 16,
   "metadata": {},
   "outputs": [],
   "source": [
    "names,emails=get_contacts('contacts.txt')\n",
    "message_temp=read_template('message.txt')"
   ]
  },
  {
   "cell_type": "code",
   "execution_count": 19,
   "metadata": {},
   "outputs": [],
   "source": [
    "#doesnt work on bits network\n",
    "s = smtplib.SMTP(\"smtp.gmail.com\", 587)\n",
    "s.ehlo()\n",
    "s.starttls()\n",
    "s.login(MY_ADDRESS, PASSWORD)"
   ]
  },
  {
   "cell_type": "code",
   "execution_count": 18,
   "metadata": {},
   "outputs": [],
   "source": [
    "for name, email in zip(names, emails):\n",
    "        msg = MIMEMultipart() \n",
    "        message = message_temp.substitute(name=name.title())\n",
    "        print(message)\n",
    "        msg['From']=MY_ADDRESS\n",
    "        msg['To']=email\n",
    "        msg['Subject']=\"Python Mail Code\"\n",
    "        msg.attach(MIMEText(message, 'plain'))\n",
    "        s.send_message(msg)"
   ]
  },
  {
   "cell_type": "code",
   "execution_count": 91,
   "metadata": {},
   "outputs": [],
   "source": [
    "s.quit()"
   ]
  }
 ],
 "metadata": {
  "kernelspec": {
   "display_name": "Python 3",
   "language": "python",
   "name": "python3"
  },
  "language_info": {
   "codemirror_mode": {
    "name": "ipython",
    "version": 3
   },
   "file_extension": ".py",
   "mimetype": "text/x-python",
   "name": "python",
   "nbconvert_exporter": "python",
   "pygments_lexer": "ipython3",
   "version": "3.7.4"
  }
 },
 "nbformat": 4,
 "nbformat_minor": 2
}
